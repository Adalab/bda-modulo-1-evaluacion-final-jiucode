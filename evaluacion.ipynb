{
 "cells": [
  {
   "cell_type": "markdown",
   "id": "b0fa3423",
   "metadata": {},
   "source": [
    "**Evaluación Python**"
   ]
  },
  {
   "cell_type": "markdown",
   "id": "776faf1f",
   "metadata": {},
   "source": [
    "A lo largo de esta evaluación tendrás que crear una clase llamada TiendaOnline que cumpla los\n",
    "siguientes requisitos:\n",
    "La clase TiendaOnline debe tener los siguientes atributos:\n",
    ". inventario (lista de diccionarios): Un atributo para almacenar los productos en el inventario.\n",
    "Cada producto debe ser representado como un diccionario con las siguientes claves:\n",
    "'nombre', 'precio', y 'cantidad'. Al principio deberá ser una lista vacía. Ejemplo de\n",
    "como debería ser:\n",
    " [{'nombre': 'Camisa', 'precio': 20, 'cantidad': 40},\n",
    " {'nombre': 'Pantalón', 'precio': 30, 'cantidad': 30}]\n",
    ". ventas_totales (float): Un atributo para llevar un registro de las ventas totales de la tienda.\n",
    "Inicializado con valor 0"
   ]
  },
  {
   "cell_type": "code",
   "execution_count": null,
   "id": "f44e02b6",
   "metadata": {},
   "outputs": [],
   "source": [
    "\n",
    "class TiendaOnline:\n",
    "    \"\"\"Class for managing an ecommerce store\"\"\"\n",
    "    \n",
    "    def __init__(self): #initializing\n",
    "        self.inventario = [] \n",
    "        self.ventas_totales = 0.0 #adding the dot to force it recognize the value as float\n",
    "\n",
    "    def agregar_producto(self, nombre, precio, cantidad): #method\n",
    "        for producto in self.inventario:  #looking for what's inside the inventory\n",
    "            if nombre == producto[\"nombre\"]:  #esto tiene que ser así porque sino peta con \"list indices must be integers or slices, not str\" entonces hay que meterle el índice de nombre en lugar de la variable\n",
    "                producto[\"cantidad\"] +=cantidad\n",
    "                print(\"El producto está\")\n",
    "                return producto\n",
    "                \n",
    "        else:\n",
    "             self.inventario.append({\"nombre\": nombre, \"precio\": precio, \"cantidad\": cantidad})\n",
    "             print (\"El producto no está, sin embargo lo acabamos de añadir al listado\")\n",
    "  \n",
    "    def ver_inventario(self):\n",
    "        inventariotest=[]\n",
    "        for producto in self.inventario: \n",
    "            inventariotest.append(\"nombre\": producto[\"nombre\"],\"precio\": producto[\"precio\"], \"cantidad\": producto[\"cantidad\"])\n",
    "            \n",
    "        return inventariotest\n",
    "            \n",
    "\n"
   ]
  },
  {
   "cell_type": "code",
   "execution_count": 143,
   "id": "c43425c1",
   "metadata": {},
   "outputs": [],
   "source": [
    "mi_tienda = TiendaOnline()"
   ]
  },
  {
   "cell_type": "code",
   "execution_count": 144,
   "id": "f61c29c7",
   "metadata": {},
   "outputs": [
    {
     "data": {
      "text/plain": [
       "{'inventario': [], 'ventas_totales': 0.0}"
      ]
     },
     "execution_count": 144,
     "metadata": {},
     "output_type": "execute_result"
    }
   ],
   "source": [
    "mi_tienda.__dict__"
   ]
  },
  {
   "cell_type": "markdown",
   "id": "11c0703e",
   "metadata": {},
   "source": [
    "agregar_producto(self, nombre, precio, cantidad): Este método agrega un producto al\n",
    "inventario o actualiza su cantidad si ya existe. Debe recibir el nombre, precio y cantidad del producto\n",
    "como parámetros.\n",
    "Itera a través del inventario y compara los nombres de los productos con el nombre\n",
    "proporcionado.\n",
    "Si el producto ya existe, actualiza la cantidad.\n",
    "Si no existe, agrega un nuevo producto al inventario"
   ]
  },
  {
   "cell_type": "code",
   "execution_count": 145,
   "id": "414e2b0b",
   "metadata": {},
   "outputs": [
    {
     "name": "stdout",
     "output_type": "stream",
     "text": [
      "El producto no está, sin embargo lo acabamos de añadir al listado\n"
     ]
    }
   ],
   "source": [
    "mi_tienda.agregar_producto(\"arwen\", 15, 6)"
   ]
  },
  {
   "cell_type": "code",
   "execution_count": 146,
   "id": "61fcfe63",
   "metadata": {},
   "outputs": [
    {
     "name": "stdout",
     "output_type": "stream",
     "text": [
      "El producto no está, sin embargo lo acabamos de añadir al listado\n"
     ]
    }
   ],
   "source": [
    "mi_tienda.agregar_producto(\"aragorn\", 20, 8)"
   ]
  },
  {
   "cell_type": "code",
   "execution_count": 147,
   "id": "ba5e66ab",
   "metadata": {},
   "outputs": [
    {
     "data": {
      "text/plain": [
       "{'inventario': [{'nombre': 'arwen', 'precio': 15, 'cantidad': 6},\n",
       "  {'nombre': 'aragorn', 'precio': 20, 'cantidad': 8}],\n",
       " 'ventas_totales': 0.0}"
      ]
     },
     "execution_count": 147,
     "metadata": {},
     "output_type": "execute_result"
    }
   ],
   "source": [
    "mi_tienda.__dict__"
   ]
  },
  {
   "cell_type": "code",
   "execution_count": 148,
   "id": "e9c7f338",
   "metadata": {},
   "outputs": [
    {
     "name": "stdout",
     "output_type": "stream",
     "text": [
      "El producto está\n"
     ]
    },
    {
     "data": {
      "text/plain": [
       "{'nombre': 'arwen', 'precio': 15, 'cantidad': 12}"
      ]
     },
     "execution_count": 148,
     "metadata": {},
     "output_type": "execute_result"
    }
   ],
   "source": [
    "mi_tienda.agregar_producto(\"arwen\", 15, 6)"
   ]
  },
  {
   "cell_type": "code",
   "execution_count": 149,
   "id": "fd6f2b69",
   "metadata": {},
   "outputs": [
    {
     "data": {
      "text/plain": [
       "{'inventario': [{'nombre': 'arwen', 'precio': 15, 'cantidad': 12},\n",
       "  {'nombre': 'aragorn', 'precio': 20, 'cantidad': 8}],\n",
       " 'ventas_totales': 0.0}"
      ]
     },
     "execution_count": 149,
     "metadata": {},
     "output_type": "execute_result"
    }
   ],
   "source": [
    "mi_tienda.__dict__"
   ]
  },
  {
   "cell_type": "markdown",
   "id": "159cb818",
   "metadata": {},
   "source": [
    "ver_inventario(self): Muestra el inventario de productos con sus detalles.\n",
    "Utiliza un bucle for para recorrer el inventario.\n",
    "evaluacion-finalv_2.md 2024-12-16\n",
    "2 / 5\n",
    "Imprime los detalles (nombre, precio, cantidad) de cada producto.\n",
    "Debería verse:\n",
    " Nombre: Camisa, Precio: $20, Cantidad: 50\n",
    " Nombre: Pantalón, Precio: $30, Cantidad: 30\n",
    " Nombre: Zapatos, Precio: $50, Cantidad: 40\n",
    " Nombre: Camisa, Precio: $20, Cantidad: 5"
   ]
  },
  {
   "cell_type": "code",
   "execution_count": 150,
   "id": "428f53d0",
   "metadata": {},
   "outputs": [
    {
     "ename": "TypeError",
     "evalue": "list.append() takes exactly one argument (3 given)",
     "output_type": "error",
     "traceback": [
      "\u001b[1;31m---------------------------------------------------------------------------\u001b[0m",
      "\u001b[1;31mTypeError\u001b[0m                                 Traceback (most recent call last)",
      "Cell \u001b[1;32mIn[150], line 1\u001b[0m\n\u001b[1;32m----> 1\u001b[0m mi_tienda\u001b[38;5;241m.\u001b[39mver_inventario()\n",
      "Cell \u001b[1;32mIn[142], line 22\u001b[0m, in \u001b[0;36mTiendaOnline.ver_inventario\u001b[1;34m(self)\u001b[0m\n\u001b[0;32m     20\u001b[0m inventariotest\u001b[38;5;241m=\u001b[39m[]\n\u001b[0;32m     21\u001b[0m \u001b[38;5;28;01mfor\u001b[39;00m producto \u001b[38;5;129;01min\u001b[39;00m \u001b[38;5;28mself\u001b[39m\u001b[38;5;241m.\u001b[39minventario: \n\u001b[1;32m---> 22\u001b[0m      inventariotest\u001b[38;5;241m.\u001b[39mappend(producto[\u001b[38;5;124m\"\u001b[39m\u001b[38;5;124mnombre\u001b[39m\u001b[38;5;124m\"\u001b[39m],producto[\u001b[38;5;124m\"\u001b[39m\u001b[38;5;124mprecio\u001b[39m\u001b[38;5;124m\"\u001b[39m],producto[\u001b[38;5;124m\"\u001b[39m\u001b[38;5;124mcantidad\u001b[39m\u001b[38;5;124m\"\u001b[39m])\n\u001b[0;32m     24\u001b[0m \u001b[38;5;28;01mreturn\u001b[39;00m inventariotest\n",
      "\u001b[1;31mTypeError\u001b[0m: list.append() takes exactly one argument (3 given)"
     ]
    }
   ],
   "source": [
    "mi_tienda.ver_inventario()"
   ]
  }
 ],
 "metadata": {
  "kernelspec": {
   "display_name": "base",
   "language": "python",
   "name": "python3"
  },
  "language_info": {
   "codemirror_mode": {
    "name": "ipython",
    "version": 3
   },
   "file_extension": ".py",
   "mimetype": "text/x-python",
   "name": "python",
   "nbconvert_exporter": "python",
   "pygments_lexer": "ipython3",
   "version": "3.12.7"
  }
 },
 "nbformat": 4,
 "nbformat_minor": 5
}
