{
 "cells": [
  {
   "cell_type": "markdown",
   "id": "b0fa3423",
   "metadata": {},
   "source": [
    "**Evaluación Python**"
   ]
  },
  {
   "cell_type": "markdown",
   "id": "776faf1f",
   "metadata": {},
   "source": [
    "A lo largo de esta evaluación tendrás que crear una clase llamada TiendaOnline que cumpla los\n",
    "siguientes requisitos:\n",
    "La clase TiendaOnline debe tener los siguientes atributos:\n",
    ". inventario (lista de diccionarios): Un atributo para almacenar los productos en el inventario.\n",
    "Cada producto debe ser representado como un diccionario con las siguientes claves:\n",
    "'nombre', 'precio', y 'cantidad'. Al principio deberá ser una lista vacía. Ejemplo de\n",
    "como debería ser:\n",
    " [{'nombre': 'Camisa', 'precio': 20, 'cantidad': 40},\n",
    " {'nombre': 'Pantalón', 'precio': 30, 'cantidad': 30}]\n",
    ". ventas_totales (float): Un atributo para llevar un registro de las ventas totales de la tienda.\n",
    "Inicializado con valor 0"
   ]
  },
  {
   "cell_type": "code",
   "execution_count": null,
   "id": "f44e02b6",
   "metadata": {},
   "outputs": [],
   "source": [
    "\n",
    "class TiendaOnline:\n",
    "    \"\"\"Class for managing an ecommerce store\"\"\"\n",
    "    \n",
    "    def __init__(self): #initializing\n",
    "        self.inventario = [] \n",
    "        self.ventas_totales = 0.0 #adding the dot to force it recognize the value as float\n",
    "\n",
    "    def agregar_producto(self, nombre, precio, cantidad): #method\n",
    "        \"\"\"Method for adding a product\"\"\"\n",
    "        for producto in self.inventario:  #looking for what's inside the inventory\n",
    "            if nombre.lower() == producto[\"nombre\"].lower():  #this has to be done this way, since it's a dictionary if you try to handle it as a list you will get an error: \"list indices must be integers or slices, not str\".\n",
    "                producto[\"cantidad\"] +=cantidad\n",
    "                print(\"El producto ya se encuentra en nuestro inventario\")\n",
    "                return producto\n",
    "                \n",
    "        else:\n",
    "             self.inventario.append({\"nombre\": nombre, \"precio\": precio, \"cantidad\": cantidad})\n",
    "             print (\"El producto no está, sin embargo lo acabamos de añadir\")\n",
    "  \n",
    "    def ver_inventario(self):\n",
    "        \"\"\"Method for checking the inventory\"\"\"\n",
    "        for producto in self.inventario: \n",
    "           print(f\"Nombre: {producto['nombre']}, Precio:{producto['precio']}€, Cantidad: {producto['cantidad']}\")\n",
    "       \n",
    "    def buscar_producto(self, nombre):\n",
    "        \"\"\"Method for searching a product\"\"\"\n",
    "        for producto in self.inventario:  \n",
    "            if nombre.lower() == producto[\"nombre\"].lower():\n",
    "                print(f\"Nombre: {producto['nombre']}, Precio:{producto['precio']}€, Cantidad: {producto['cantidad']}\")  #good line for the formatting, do not remove\n",
    "                    #if you return this you will get the list twice,so avoiding the return since we don't want to save the information, just check it.\n",
    "\n",
    "    def actualizar_stock(self, nombre, cantidad):\n",
    "        \"Method for updating the stock\"\n",
    "        for producto in self.inventario:  \n",
    "            if nombre.lower() == producto[\"nombre\"].lower():\n",
    "                producto['cantidad'] = cantidad #updating the quantity directly by overwriting the value\n",
    "                return cantidad\n",
    "            \n",
    "    def eliminar_producto(self, nombre):\n",
    "        \"Method for deleting a product\"\n",
    "        #the following code was an attempt to try to add more security in case it was only valid until end of stock, however the previous error is no longer showing up after fixing the lines correctly so there's no need to do so.\n",
    "        #if self.inventario == []:\n",
    "        #    print(\"no se puede hacer lo que quieres\")\n",
    "        #else:\n",
    "        for producto in self.inventario:  \n",
    "             if nombre.lower() == producto[\"nombre\"].lower(): #and producto in self.inventario:\n",
    "                self.inventario.remove(producto)\n",
    "                print (\"se ha eliminado el producto\") \n",
    "                return\n",
    "        else:\n",
    "            print(\"El producto que buscas no se encuentra en el inventario, por lo que no se puede eliminar\") #this was being included in the loop because it was incorrectly tabbed to the right. correcting it. \n",
    "\n",
    "    def calcular_valor_inventario(self):\n",
    "        \"\"\"Method for calculating the inventory value\"\"\"\n",
    "        total=0 #inicializamos a 0 el total\n",
    "        for producto in self.inventario:\n",
    "            total+=producto['cantidad']*producto['precio']\n",
    "\n",
    "        print(f\"El valor total del inventario es: {total}\")\n",
    "\n"
   ]
  },
  {
   "cell_type": "code",
   "execution_count": 594,
   "id": "c43425c1",
   "metadata": {},
   "outputs": [],
   "source": [
    "mi_tienda = TiendaOnline()"
   ]
  },
  {
   "cell_type": "code",
   "execution_count": 595,
   "id": "f61c29c7",
   "metadata": {},
   "outputs": [
    {
     "data": {
      "text/plain": [
       "{'inventario': [], 'ventas_totales': 0.0}"
      ]
     },
     "execution_count": 595,
     "metadata": {},
     "output_type": "execute_result"
    }
   ],
   "source": [
    "mi_tienda.__dict__"
   ]
  },
  {
   "cell_type": "markdown",
   "id": "11c0703e",
   "metadata": {},
   "source": [
    "agregar_producto(self, nombre, precio, cantidad): Este método agrega un producto al\n",
    "inventario o actualiza su cantidad si ya existe. Debe recibir el nombre, precio y cantidad del producto\n",
    "como parámetros.\n",
    "Itera a través del inventario y compara los nombres de los productos con el nombre\n",
    "proporcionado.\n",
    "Si el producto ya existe, actualiza la cantidad.\n",
    "Si no existe, agrega un nuevo producto al inventario"
   ]
  },
  {
   "cell_type": "code",
   "execution_count": 597,
   "id": "414e2b0b",
   "metadata": {},
   "outputs": [
    {
     "name": "stdout",
     "output_type": "stream",
     "text": [
      "<class 'dict'>\n",
      "El producto ya se encuentra en nuestro inventario None\n"
     ]
    },
    {
     "data": {
      "text/plain": [
       "{'nombre': 'arwen', 'precio': 15, 'cantidad': 12}"
      ]
     },
     "execution_count": 597,
     "metadata": {},
     "output_type": "execute_result"
    }
   ],
   "source": [
    "mi_tienda.agregar_producto(\"arwen\", 15, 6)"
   ]
  },
  {
   "cell_type": "code",
   "execution_count": 584,
   "id": "61fcfe63",
   "metadata": {},
   "outputs": [
    {
     "name": "stdout",
     "output_type": "stream",
     "text": [
      "El producto no está, sin embargo lo acabamos de añadir\n"
     ]
    }
   ],
   "source": [
    "mi_tienda.agregar_producto(\"aragorn\", 20, 8)"
   ]
  },
  {
   "cell_type": "code",
   "execution_count": 585,
   "id": "4654c285",
   "metadata": {},
   "outputs": [
    {
     "name": "stdout",
     "output_type": "stream",
     "text": [
      "El producto no está, sin embargo lo acabamos de añadir\n"
     ]
    }
   ],
   "source": [
    "mi_tienda.agregar_producto(\"legolas\", 16, 7)"
   ]
  },
  {
   "cell_type": "code",
   "execution_count": 569,
   "id": "ba5e66ab",
   "metadata": {},
   "outputs": [
    {
     "data": {
      "text/plain": [
       "{'inventario': [{'nombre': 'arwen', 'precio': 15, 'cantidad': 12},\n",
       "  {'nombre': 'aragorn', 'precio': 20, 'cantidad': 16},\n",
       "  {'nombre': 'legolas', 'precio': 16, 'cantidad': 7}],\n",
       " 'ventas_totales': 0.0}"
      ]
     },
     "execution_count": 569,
     "metadata": {},
     "output_type": "execute_result"
    }
   ],
   "source": [
    "mi_tienda.__dict__"
   ]
  },
  {
   "cell_type": "code",
   "execution_count": 537,
   "id": "e9c7f338",
   "metadata": {},
   "outputs": [
    {
     "name": "stdout",
     "output_type": "stream",
     "text": [
      "El producto ya se encuentra en nuestro inventario\n"
     ]
    },
    {
     "data": {
      "text/plain": [
       "{'nombre': 'arwen', 'precio': 15, 'cantidad': 12}"
      ]
     },
     "execution_count": 537,
     "metadata": {},
     "output_type": "execute_result"
    }
   ],
   "source": [
    "mi_tienda.agregar_producto(\"arwen\", 15, 6)"
   ]
  },
  {
   "cell_type": "code",
   "execution_count": 522,
   "id": "fd6f2b69",
   "metadata": {},
   "outputs": [
    {
     "data": {
      "text/plain": [
       "{'inventario': [{'nombre': 'arwen', 'precio': 15, 'cantidad': 6},\n",
       "  {'nombre': 'aragorn', 'precio': 20, 'cantidad': 8},\n",
       "  {'nombre': 'legolas', 'precio': 16, 'cantidad': 7}],\n",
       " 'ventas_totales': 0.0}"
      ]
     },
     "execution_count": 522,
     "metadata": {},
     "output_type": "execute_result"
    }
   ],
   "source": [
    "mi_tienda.__dict__"
   ]
  },
  {
   "cell_type": "markdown",
   "id": "159cb818",
   "metadata": {},
   "source": [
    "ver_inventario(self): Muestra el inventario de productos con sus detalles.\n",
    "Utiliza un bucle for para recorrer el inventario.\n",
    "evaluacion-finalv_2.md 2024-12-16\n",
    "2 / 5\n",
    "Imprime los detalles (nombre, precio, cantidad) de cada producto.\n",
    "Debería verse:\n",
    " Nombre: Camisa, Precio: $20, Cantidad: 50\n",
    " Nombre: Pantalón, Precio: $30, Cantidad: 30\n",
    " Nombre: Zapatos, Precio: $50, Cantidad: 40\n",
    " Nombre: Camisa, Precio: $20, Cantidad: 5"
   ]
  },
  {
   "cell_type": "code",
   "execution_count": 586,
   "id": "428f53d0",
   "metadata": {},
   "outputs": [
    {
     "name": "stdout",
     "output_type": "stream",
     "text": [
      "Nombre: aragorn, Precio:20€, Cantidad: 8\n",
      "Nombre: legolas, Precio:16€, Cantidad: 7\n"
     ]
    }
   ],
   "source": [
    "mi_tienda.ver_inventario()"
   ]
  },
  {
   "cell_type": "markdown",
   "id": "291871e8",
   "metadata": {},
   "source": [
    "buscar_producto(self, nombre): Busca un producto en el inventario por nombre y muestra sus\n",
    "detalles si se encuentra. Debe recibir el nombre del producto como parámetro.\n",
    "Utiliza un bucle for para recorrer el inventario.\n",
    "Compara los nombres de los productos con el nombre proporcionado.\n",
    "Si se encuentra el producto, imprime sus detalles.\n",
    "Debe mostrar:\n",
    "Nombre: Camisa, Precio: $20, Cantidad: 40\n"
   ]
  },
  {
   "cell_type": "code",
   "execution_count": 571,
   "id": "dd6cbc54",
   "metadata": {},
   "outputs": [
    {
     "name": "stdout",
     "output_type": "stream",
     "text": [
      "Nombre: arwen, Precio:15€, Cantidad: 12\n"
     ]
    }
   ],
   "source": [
    "mi_tienda.buscar_producto(\"ARWEN\")\n",
    "    "
   ]
  },
  {
   "cell_type": "markdown",
   "id": "f9d99621",
   "metadata": {},
   "source": [
    "actualizar_stock(self, nombre, cantidad): Actualiza el stock de un producto en el\n",
    "inventario. Debe recibir el nombre del producto y la cantidad a agregar o quitar como parámetros.\n",
    "Utiliza un bucle for para recorrer el inventario.\n",
    "Busca el producto por nombre.\n",
    "Actualiza la cantidad según la entrada del usuario.\n",
    "Si el producto no esta en el inventario muestra un mensaje indicándolo.\n"
   ]
  },
  {
   "cell_type": "code",
   "execution_count": 572,
   "id": "7db8eb00",
   "metadata": {},
   "outputs": [
    {
     "data": {
      "text/plain": [
       "2"
      ]
     },
     "execution_count": 572,
     "metadata": {},
     "output_type": "execute_result"
    }
   ],
   "source": [
    "mi_tienda.actualizar_stock(\"ARWEN\",2)"
   ]
  },
  {
   "cell_type": "code",
   "execution_count": 376,
   "id": "014735a5",
   "metadata": {},
   "outputs": [
    {
     "data": {
      "text/plain": [
       "{'inventario': [{'nombre': 'arwen', 'precio': 15, 'cantidad': 2},\n",
       "  {'nombre': 'aragorn', 'precio': 20, 'cantidad': 8},\n",
       "  {'nombre': 'legolas', 'precio': 16, 'cantidad': 7}],\n",
       " 'ventas_totales': 0.0}"
      ]
     },
     "execution_count": 376,
     "metadata": {},
     "output_type": "execute_result"
    }
   ],
   "source": [
    "mi_tienda.__dict__"
   ]
  },
  {
   "cell_type": "markdown",
   "id": "778d7e72",
   "metadata": {},
   "source": [
    "eliminar_producto(self, nombre): Elimina un producto del inventario por nombre. Debe\n",
    "recibir el nombre del producto como parámetro.\n",
    "Utiliza un bucle for para recorrer el inventario.\n",
    "Busca el producto por nombre.\n",
    "Elimina el producto del inventario si existe.\n",
    "Si el producto no esta en el inventario muestra un mensaje indicándolo.\n"
   ]
  },
  {
   "cell_type": "code",
   "execution_count": 577,
   "id": "427c7d09",
   "metadata": {},
   "outputs": [
    {
     "name": "stdout",
     "output_type": "stream",
     "text": [
      "El producto que buscas no se encuentra en el inventario, por lo que no se puede eliminar\n"
     ]
    }
   ],
   "source": [
    "mi_tienda.eliminar_producto(\"LEgolas\")"
   ]
  },
  {
   "cell_type": "code",
   "execution_count": 578,
   "id": "b84d8465",
   "metadata": {},
   "outputs": [
    {
     "name": "stdout",
     "output_type": "stream",
     "text": [
      "El producto que buscas no se encuentra en el inventario, por lo que no se puede eliminar\n"
     ]
    }
   ],
   "source": [
    "mi_tienda.eliminar_producto(\"ARWEN\")"
   ]
  },
  {
   "cell_type": "code",
   "execution_count": 582,
   "id": "3dc8600b",
   "metadata": {},
   "outputs": [
    {
     "name": "stdout",
     "output_type": "stream",
     "text": [
      "El producto que buscas no se encuentra en el inventario, por lo que no se puede eliminar\n"
     ]
    }
   ],
   "source": [
    "mi_tienda.eliminar_producto(\"aragorn\")"
   ]
  },
  {
   "cell_type": "code",
   "execution_count": 583,
   "id": "15a55ccc",
   "metadata": {},
   "outputs": [
    {
     "data": {
      "text/plain": [
       "{'inventario': [], 'ventas_totales': 0.0}"
      ]
     },
     "execution_count": 583,
     "metadata": {},
     "output_type": "execute_result"
    }
   ],
   "source": [
    "mi_tienda.__dict__"
   ]
  },
  {
   "cell_type": "markdown",
   "id": "8b53f9b4",
   "metadata": {},
   "source": [
    "calcular_valor_inventario(self): Calcula y muestra el valor total del inventario.\n",
    "Utiliza un bucle for para calcular el valor total del inventario.\n",
    "Itera a través del inventario y suma el valor de cada producto (precio x cantidad). Es decir,\n",
    "calcula el valor total del inventario. Ejemplo:\n",
    "# si tenemos 5 camisas que valen 5 euros\n",
    "# y 10 calcetines que valen 1 euro\n",
    "# este método te tiene que devolver: 35 euros\n",
    "evaluacion-finalv_2.md 2024-12-16\n",
    "3 / 5\n",
    "valor_camisas = 5 * 5\n",
    "valor_calcetines = 10 * 1\n",
    "valor_camisas + valor_calcetines = 35"
   ]
  },
  {
   "cell_type": "code",
   "execution_count": 587,
   "id": "1916a885",
   "metadata": {},
   "outputs": [
    {
     "name": "stdout",
     "output_type": "stream",
     "text": [
      "El valor total del inventario es: 272\n"
     ]
    }
   ],
   "source": [
    "mi_tienda.calcular_valor_inventario()\n",
    "#20x8+15x6+16x7=362"
   ]
  },
  {
   "cell_type": "code",
   "execution_count": 638,
   "id": "c8d957b0",
   "metadata": {},
   "outputs": [
    {
     "name": "stdout",
     "output_type": "stream",
     "text": [
      "Cliente1 cliente1@email.com\n",
      "Cliente2 cliente2@email.com\n"
     ]
    }
   ],
   "source": [
    "#Bonus ejercicio 2 de sacar info de clientes (fuera de función)\n",
    "#Utiliza un bucle for para recorrer la base de datos de clientes.\n",
    "#Imprime los detalles de cada cliente (nombre y correo electrónico).\n",
    "\n",
    "clientestest ={'Cliente1': {'email': 'cliente1@email.com', 'compras': []},\n",
    " 'Cliente2': {'email': 'cliente2@email.com', 'compras': []}}\n",
    "\n",
    "for key, value in clientestest.items():\n",
    "        email=value['email'] \n",
    "        print (key, email)"
   ]
  },
  {
   "cell_type": "code",
   "execution_count": 636,
   "id": "18362c14",
   "metadata": {},
   "outputs": [
    {
     "name": "stdout",
     "output_type": "stream",
     "text": [
      "pago exitoso. La devolución por parte de la tienda serían: 30\n"
     ]
    }
   ],
   "source": [
    "#Bonus ejercicio 4 try-except fuera de función\n",
    "\n",
    "try:\n",
    "    cantidadtotal= int(input (\"ingresa la cantidad total\")) #integer para que puedan realizarse operaciones tranquilamente\n",
    "    cantidaddepago= int(input (\"intresa la cantidad de pago\"))\n",
    "\n",
    "    if cantidadtotal<cantidaddepago:\n",
    "        operacion=cantidadtotal-cantidaddepago\n",
    "        print(f\"pago exitoso. La devolución por parte de la tienda serían: {operacion * -1}\") #esto lo hice buscando cómo cambiar un número a positivo. al parecer multiplicar por -1 es una de las opciones\n",
    "        #en documentación de excepciones hablan del abs y te devuelve el número en absoluto, pero no lo dimos ergo no lo testeé, me pareció más sencillo multiplicar.\n",
    "    else:\n",
    "      print (\"monto insuficiente\")\n",
    "\n",
    "except ValueError:  #se produce cuando la operación o función recibe un argumento con el tipo correcto pero el valor incorrecto\n",
    "    print(\"introduzca un número\") #se puede forzar cuando se pone una \"a\", y como estamos forzando el int en el input en la entrada el sistema se espera un int y levanta excepción.\n",
    "\n",
    "\n",
    "#Utiliza un bloque try...except para manejar excepciones.\n",
    "#Solicita al cliente ingresar la cantidad total y la cantidad de pago usando un input.\n",
    "#Calcula el cambio y muestra un mensaje de pago exitoso o un error en caso de monto\n",
    "#insuficiente.\n",
    "\n"
   ]
  }
 ],
 "metadata": {
  "kernelspec": {
   "display_name": "base",
   "language": "python",
   "name": "python3"
  },
  "language_info": {
   "codemirror_mode": {
    "name": "ipython",
    "version": 3
   },
   "file_extension": ".py",
   "mimetype": "text/x-python",
   "name": "python",
   "nbconvert_exporter": "python",
   "pygments_lexer": "ipython3",
   "version": "3.12.7"
  }
 },
 "nbformat": 4,
 "nbformat_minor": 5
}
