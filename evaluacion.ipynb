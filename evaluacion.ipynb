{
 "cells": [
  {
   "cell_type": "markdown",
   "id": "b0fa3423",
   "metadata": {},
   "source": [
    "**Evaluación Python**"
   ]
  },
  {
   "cell_type": "markdown",
   "id": "776faf1f",
   "metadata": {},
   "source": [
    "A lo largo de esta evaluación tendrás que crear una clase llamada TiendaOnline que cumpla los\n",
    "siguientes requisitos:\n",
    "La clase TiendaOnline debe tener los siguientes atributos:\n",
    ". inventario (lista de diccionarios): Un atributo para almacenar los productos en el inventario.\n",
    "Cada producto debe ser representado como un diccionario con las siguientes claves:\n",
    "'nombre', 'precio', y 'cantidad'. Al principio deberá ser una lista vacía. Ejemplo de\n",
    "como debería ser:\n",
    " [{'nombre': 'Camisa', 'precio': 20, 'cantidad': 40},\n",
    " {'nombre': 'Pantalón', 'precio': 30, 'cantidad': 30}]\n",
    ". ventas_totales (float): Un atributo para llevar un registro de las ventas totales de la tienda.\n",
    "Inicializado con valor 0"
   ]
  },
  {
   "cell_type": "code",
   "execution_count": null,
   "id": "f44e02b6",
   "metadata": {},
   "outputs": [],
   "source": [
    "\n",
    "class TiendaOnline:\n",
    "    \"\"\"Class for managing an ecommerce store\"\"\"\n",
    "    \n",
    "    def __init__(self): #initializing\n",
    "        self.inventario = [] \n",
    "        self.ventas_totales = 0.0 #adding the dot to force it recognize the value as float\n",
    "\n",
    "    def agregar_producto(self, nombre, precio, cantidad): #method\n",
    "        for producto in self.inventario:  #looking for what's inside the inventory\n",
    "            if nombre == producto['nombre']:  #esto tiene que ser así porque sino peta con \"list indices must be integers or slices, not str\" entonces hay que meterle el índice de nombre en lugar de la variable\n",
    "                producto[\"cantidad\"] +=cantidad\n",
    "                print(\"El producto está\")\n",
    "                return\n",
    "                \n",
    "        else:\n",
    "             self.inventario.append({\"nombre\": nombre, \"precio\": precio, \"cantidad\": cantidad})\n",
    "             print (\"El producto no está, sin embargo lo acabamos de añadir al listado\")\n"
   ]
  },
  {
   "cell_type": "code",
   "execution_count": 89,
   "id": "c43425c1",
   "metadata": {},
   "outputs": [],
   "source": [
    "mi_tienda = TiendaOnline()"
   ]
  },
  {
   "cell_type": "code",
   "execution_count": 90,
   "id": "f61c29c7",
   "metadata": {},
   "outputs": [
    {
     "data": {
      "text/plain": [
       "{'inventario': [], 'ventas_totales': 0.0}"
      ]
     },
     "execution_count": 90,
     "metadata": {},
     "output_type": "execute_result"
    }
   ],
   "source": [
    "mi_tienda.__dict__"
   ]
  },
  {
   "cell_type": "markdown",
   "id": "11c0703e",
   "metadata": {},
   "source": [
    "agregar_producto(self, nombre, precio, cantidad): Este método agrega un producto al\n",
    "inventario o actualiza su cantidad si ya existe. Debe recibir el nombre, precio y cantidad del producto\n",
    "como parámetros.\n",
    "Itera a través del inventario y compara los nombres de los productos con el nombre\n",
    "proporcionado.\n",
    "Si el producto ya existe, actualiza la cantidad.\n",
    "Si no existe, agrega un nuevo producto al inventario"
   ]
  },
  {
   "cell_type": "code",
   "execution_count": 91,
   "id": "414e2b0b",
   "metadata": {},
   "outputs": [
    {
     "name": "stdout",
     "output_type": "stream",
     "text": [
      "El producto no está, sin embargo lo acabamos de añadir al listado\n"
     ]
    }
   ],
   "source": [
    "mi_tienda.agregar_producto(\"arwen\", 15, 6)"
   ]
  },
  {
   "cell_type": "code",
   "execution_count": 92,
   "id": "ba5e66ab",
   "metadata": {},
   "outputs": [
    {
     "data": {
      "text/plain": [
       "{'inventario': [{'nombre': 'arwen', 'precio': 15, 'cantidad': 6}],\n",
       " 'ventas_totales': 0.0}"
      ]
     },
     "execution_count": 92,
     "metadata": {},
     "output_type": "execute_result"
    }
   ],
   "source": [
    "mi_tienda.__dict__"
   ]
  },
  {
   "cell_type": "code",
   "execution_count": 93,
   "id": "e9c7f338",
   "metadata": {},
   "outputs": [
    {
     "name": "stdout",
     "output_type": "stream",
     "text": [
      "El producto está\n"
     ]
    }
   ],
   "source": [
    "mi_tienda.agregar_producto(\"arwen\", 15, 6)"
   ]
  },
  {
   "cell_type": "code",
   "execution_count": 72,
   "id": "fd6f2b69",
   "metadata": {},
   "outputs": [
    {
     "data": {
      "text/plain": [
       "{'inventario': [['arwen', 15, 12]], 'ventas_totales': 0.0}"
      ]
     },
     "execution_count": 72,
     "metadata": {},
     "output_type": "execute_result"
    }
   ],
   "source": [
    "mi_tienda.__dict__"
   ]
  }
 ],
 "metadata": {
  "kernelspec": {
   "display_name": "base",
   "language": "python",
   "name": "python3"
  },
  "language_info": {
   "codemirror_mode": {
    "name": "ipython",
    "version": 3
   },
   "file_extension": ".py",
   "mimetype": "text/x-python",
   "name": "python",
   "nbconvert_exporter": "python",
   "pygments_lexer": "ipython3",
   "version": "3.12.7"
  }
 },
 "nbformat": 4,
 "nbformat_minor": 5
}
