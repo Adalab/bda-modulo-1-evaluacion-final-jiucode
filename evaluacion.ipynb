{
 "cells": [
  {
   "cell_type": "markdown",
   "id": "b0fa3423",
   "metadata": {},
   "source": [
    "**Evaluación Python**"
   ]
  },
  {
   "cell_type": "markdown",
   "id": "776faf1f",
   "metadata": {},
   "source": [
    "A lo largo de esta evaluación tendrás que crear una clase llamada TiendaOnline que cumpla los\n",
    "siguientes requisitos:\n",
    "La clase TiendaOnline debe tener los siguientes atributos:\n",
    ". inventario (lista de diccionarios): Un atributo para almacenar los productos en el inventario.\n",
    "Cada producto debe ser representado como un diccionario con las siguientes claves:\n",
    "'nombre', 'precio', y 'cantidad'. Al principio deberá ser una lista vacía. Ejemplo de\n",
    "como debería ser:\n",
    " [{'nombre': 'Camisa', 'precio': 20, 'cantidad': 40},\n",
    " {'nombre': 'Pantalón', 'precio': 30, 'cantidad': 30}]\n",
    ". ventas_totales (float): Un atributo para llevar un registro de las ventas totales de la tienda.\n",
    "Inicializado con valor 0"
   ]
  },
  {
   "cell_type": "code",
   "execution_count": null,
   "id": "f44e02b6",
   "metadata": {},
   "outputs": [],
   "source": [
    "\n",
    "class TiendaOnline:\n",
    "    \"\"\"Class for managing an ecommerce store\"\"\"\n",
    "    \n",
    "    def __init__(self): #initializing\n",
    "        self.inventario = [] \n",
    "        self.ventas_totales = 0.0 #adding the dot to force it recognize the value as float\n",
    "\n",
    "    def agregar_producto(self, nombre, precio, cantidad): #method\n",
    "        for producto in self.inventario:  #looking for what's inside the inventory\n",
    "            if nombre == producto[\"nombre\"]:  #esto tiene que ser así porque sino peta con \"list indices must be integers or slices, not str\" entonces hay que meterle el índice de nombre en lugar de la variable\n",
    "                producto[\"cantidad\"] +=cantidad\n",
    "                print(\"El producto ya se encuentra en nuestro inventario\")\n",
    "                return producto\n",
    "                \n",
    "        else:\n",
    "             self.inventario.append({\"nombre\": nombre, \"precio\": precio, \"cantidad\": cantidad})\n",
    "             print (\"El producto no está, sin embargo lo acabamos de añadir\")\n",
    "  \n",
    "    def ver_inventario(self):\n",
    "        for producto in self.inventario: \n",
    "           print(f\"Nombre: {producto['nombre']}, Precio:{producto['precio']}€, Cantidad: {producto['cantidad']}\")\n",
    "       \n",
    "    def buscar_producto(self, nombre):\n",
    "        for producto in self.inventario:  \n",
    "            if nombre == producto[\"nombre\"]:\n",
    "                print(f\"Nombre: {producto['nombre']}, Precio:{producto['precio']}€, Cantidad: {producto['cantidad']}\")  #good line for the formatting, do not remove\n",
    "                    #if you return this you will get the list twice,so avoiding the return since we don't want to save the information, just check it.\n",
    "\n",
    "    def actualizar_stock(self, nombre, cantidad):\n",
    "        for producto in self.inventario:  \n",
    "            if nombre == producto[\"nombre\"]:\n",
    "                producto['cantidad'] = cantidad\n",
    "                return cantidad\n",
    "            \n",
    "    def eliminar_producto(self, nombre):\n",
    "        for producto in self.inventario:  \n",
    "            if nombre == producto[\"nombre\"] and producto in self.inventario:  #si nos cargamos todo el inventario no tiene nombre que buscar???? solo valido para un par de veces\n",
    "                self.inventario.remove(producto)\n",
    "                print (\"se ha eliminado el producto\") \n",
    "            elif nombre != producto[\"nombre\"]:\n",
    "                print(\"El producto que buscas no se encuentra en el inventario, por lo que no se puede eliminar\")  #esto siempre entra en la primera iteración, idk why\n"
   ]
  },
  {
   "cell_type": "code",
   "execution_count": 318,
   "id": "c43425c1",
   "metadata": {},
   "outputs": [],
   "source": [
    "mi_tienda = TiendaOnline()"
   ]
  },
  {
   "cell_type": "code",
   "execution_count": 310,
   "id": "f61c29c7",
   "metadata": {},
   "outputs": [
    {
     "data": {
      "text/plain": [
       "{'inventario': [], 'ventas_totales': 0.0}"
      ]
     },
     "execution_count": 310,
     "metadata": {},
     "output_type": "execute_result"
    }
   ],
   "source": [
    "mi_tienda.__dict__"
   ]
  },
  {
   "cell_type": "markdown",
   "id": "11c0703e",
   "metadata": {},
   "source": [
    "agregar_producto(self, nombre, precio, cantidad): Este método agrega un producto al\n",
    "inventario o actualiza su cantidad si ya existe. Debe recibir el nombre, precio y cantidad del producto\n",
    "como parámetros.\n",
    "Itera a través del inventario y compara los nombres de los productos con el nombre\n",
    "proporcionado.\n",
    "Si el producto ya existe, actualiza la cantidad.\n",
    "Si no existe, agrega un nuevo producto al inventario"
   ]
  },
  {
   "cell_type": "code",
   "execution_count": 319,
   "id": "414e2b0b",
   "metadata": {},
   "outputs": [
    {
     "name": "stdout",
     "output_type": "stream",
     "text": [
      "El producto no está, sin embargo lo acabamos de añadir\n"
     ]
    }
   ],
   "source": [
    "mi_tienda.agregar_producto(\"arwen\", 15, 6)"
   ]
  },
  {
   "cell_type": "code",
   "execution_count": 320,
   "id": "61fcfe63",
   "metadata": {},
   "outputs": [
    {
     "name": "stdout",
     "output_type": "stream",
     "text": [
      "El producto no está, sin embargo lo acabamos de añadir\n"
     ]
    }
   ],
   "source": [
    "mi_tienda.agregar_producto(\"aragorn\", 20, 8)"
   ]
  },
  {
   "cell_type": "code",
   "execution_count": 321,
   "id": "4654c285",
   "metadata": {},
   "outputs": [
    {
     "name": "stdout",
     "output_type": "stream",
     "text": [
      "El producto no está, sin embargo lo acabamos de añadir\n"
     ]
    }
   ],
   "source": [
    "mi_tienda.agregar_producto(\"legolas\", 16, 7)"
   ]
  },
  {
   "cell_type": "code",
   "execution_count": 294,
   "id": "ba5e66ab",
   "metadata": {},
   "outputs": [
    {
     "data": {
      "text/plain": [
       "{'inventario': [{'nombre': 'arwen', 'precio': 15, 'cantidad': 6},\n",
       "  {'nombre': 'aragorn', 'precio': 20, 'cantidad': 8},\n",
       "  {'nombre': 'legolas', 'precio': 16, 'cantidad': 7}],\n",
       " 'ventas_totales': 0.0}"
      ]
     },
     "execution_count": 294,
     "metadata": {},
     "output_type": "execute_result"
    }
   ],
   "source": [
    "mi_tienda.__dict__"
   ]
  },
  {
   "cell_type": "code",
   "execution_count": 303,
   "id": "e9c7f338",
   "metadata": {},
   "outputs": [
    {
     "name": "stdout",
     "output_type": "stream",
     "text": [
      "El producto ya se encuentra en nuestro inventario\n"
     ]
    },
    {
     "data": {
      "text/plain": [
       "{'nombre': 'arwen', 'precio': 15, 'cantidad': 12}"
      ]
     },
     "execution_count": 303,
     "metadata": {},
     "output_type": "execute_result"
    }
   ],
   "source": [
    "mi_tienda.agregar_producto(\"arwen\", 15, 6)"
   ]
  },
  {
   "cell_type": "code",
   "execution_count": 284,
   "id": "fd6f2b69",
   "metadata": {},
   "outputs": [
    {
     "data": {
      "text/plain": [
       "{'inventario': [{'nombre': 'arwen', 'precio': 15, 'cantidad': 12},\n",
       "  {'nombre': 'aragorn', 'precio': 20, 'cantidad': 8},\n",
       "  {'nombre': 'legolas', 'precio': 16, 'cantidad': 7}],\n",
       " 'ventas_totales': 0.0}"
      ]
     },
     "execution_count": 284,
     "metadata": {},
     "output_type": "execute_result"
    }
   ],
   "source": [
    "mi_tienda.__dict__"
   ]
  },
  {
   "cell_type": "markdown",
   "id": "159cb818",
   "metadata": {},
   "source": [
    "ver_inventario(self): Muestra el inventario de productos con sus detalles.\n",
    "Utiliza un bucle for para recorrer el inventario.\n",
    "evaluacion-finalv_2.md 2024-12-16\n",
    "2 / 5\n",
    "Imprime los detalles (nombre, precio, cantidad) de cada producto.\n",
    "Debería verse:\n",
    " Nombre: Camisa, Precio: $20, Cantidad: 50\n",
    " Nombre: Pantalón, Precio: $30, Cantidad: 30\n",
    " Nombre: Zapatos, Precio: $50, Cantidad: 40\n",
    " Nombre: Camisa, Precio: $20, Cantidad: 5"
   ]
  },
  {
   "cell_type": "code",
   "execution_count": 285,
   "id": "428f53d0",
   "metadata": {},
   "outputs": [
    {
     "name": "stdout",
     "output_type": "stream",
     "text": [
      "Nombre: arwen, Precio:15€, Cantidad: 12\n",
      "Nombre: aragorn, Precio:20€, Cantidad: 8\n",
      "Nombre: legolas, Precio:16€, Cantidad: 7\n"
     ]
    }
   ],
   "source": [
    "mi_tienda.ver_inventario()"
   ]
  },
  {
   "cell_type": "markdown",
   "id": "291871e8",
   "metadata": {},
   "source": [
    "buscar_producto(self, nombre): Busca un producto en el inventario por nombre y muestra sus\n",
    "detalles si se encuentra. Debe recibir el nombre del producto como parámetro.\n",
    "Utiliza un bucle for para recorrer el inventario.\n",
    "Compara los nombres de los productos con el nombre proporcionado.\n",
    "Si se encuentra el producto, imprime sus detalles.\n",
    "Debe mostrar:\n",
    "Nombre: Camisa, Precio: $20, Cantidad: 40\n"
   ]
  },
  {
   "cell_type": "code",
   "execution_count": 286,
   "id": "dd6cbc54",
   "metadata": {},
   "outputs": [
    {
     "name": "stdout",
     "output_type": "stream",
     "text": [
      "Nombre: arwen, Precio:15€, Cantidad: 12\n"
     ]
    }
   ],
   "source": [
    "mi_tienda.buscar_producto(\"arwen\")\n",
    "    "
   ]
  },
  {
   "cell_type": "markdown",
   "id": "f9d99621",
   "metadata": {},
   "source": [
    "actualizar_stock(self, nombre, cantidad): Actualiza el stock de un producto en el\n",
    "inventario. Debe recibir el nombre del producto y la cantidad a agregar o quitar como parámetros.\n",
    "Utiliza un bucle for para recorrer el inventario.\n",
    "Busca el producto por nombre.\n",
    "Actualiza la cantidad según la entrada del usuario.\n",
    "Si el producto no esta en el inventario muestra un mensaje indicándolo.\n"
   ]
  },
  {
   "cell_type": "code",
   "execution_count": 248,
   "id": "e6b974b7",
   "metadata": {},
   "outputs": [],
   "source": [
    "def actualizar_stock(self, nombre, cantidad):\n",
    "    for producto in self.inventario:  \n",
    "            if nombre == producto[\"nombre\"]:\n",
    "                producto['cantidad'] = mi_tienda.buscar_producto(cantidad)\n",
    "                return cantidad"
   ]
  },
  {
   "cell_type": "code",
   "execution_count": 249,
   "id": "7db8eb00",
   "metadata": {},
   "outputs": [
    {
     "data": {
      "text/plain": [
       "2"
      ]
     },
     "execution_count": 249,
     "metadata": {},
     "output_type": "execute_result"
    }
   ],
   "source": [
    "mi_tienda.actualizar_stock(\"arwen\",2)"
   ]
  },
  {
   "cell_type": "code",
   "execution_count": 304,
   "id": "014735a5",
   "metadata": {},
   "outputs": [
    {
     "data": {
      "text/plain": [
       "{'inventario': [{'nombre': 'arwen', 'precio': 15, 'cantidad': 12},\n",
       "  {'nombre': 'aragorn', 'precio': 20, 'cantidad': 8},\n",
       "  {'nombre': 'legolas', 'precio': 16, 'cantidad': 7}],\n",
       " 'ventas_totales': 0.0}"
      ]
     },
     "execution_count": 304,
     "metadata": {},
     "output_type": "execute_result"
    }
   ],
   "source": [
    "mi_tienda.__dict__"
   ]
  },
  {
   "cell_type": "markdown",
   "id": "778d7e72",
   "metadata": {},
   "source": [
    "eliminar_producto(self, nombre): Elimina un producto del inventario por nombre. Debe\n",
    "recibir el nombre del producto como parámetro.\n",
    "Utiliza un bucle for para recorrer el inventario.\n",
    "Busca el producto por nombre.\n",
    "Elimina el producto del inventario si existe.\n",
    "Si el producto no esta en el inventario muestra un mensaje indicándolo.\n"
   ]
  },
  {
   "cell_type": "code",
   "execution_count": 332,
   "id": "427c7d09",
   "metadata": {},
   "outputs": [],
   "source": [
    "mi_tienda.eliminar_producto(\"legolas\")"
   ]
  },
  {
   "cell_type": "code",
   "execution_count": 333,
   "id": "15a55ccc",
   "metadata": {},
   "outputs": [
    {
     "data": {
      "text/plain": [
       "{'inventario': [], 'ventas_totales': 0.0}"
      ]
     },
     "execution_count": 333,
     "metadata": {},
     "output_type": "execute_result"
    }
   ],
   "source": [
    "mi_tienda.__dict__"
   ]
  }
 ],
 "metadata": {
  "kernelspec": {
   "display_name": "base",
   "language": "python",
   "name": "python3"
  },
  "language_info": {
   "codemirror_mode": {
    "name": "ipython",
    "version": 3
   },
   "file_extension": ".py",
   "mimetype": "text/x-python",
   "name": "python",
   "nbconvert_exporter": "python",
   "pygments_lexer": "ipython3",
   "version": "3.12.7"
  }
 },
 "nbformat": 4,
 "nbformat_minor": 5
}
